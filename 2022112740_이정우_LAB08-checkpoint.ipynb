{
 "cells": [
  {
   "cell_type": "code",
   "execution_count": 7,
   "id": "5438995a",
   "metadata": {},
   "outputs": [
    {
     "name": "stdout",
     "output_type": "stream",
     "text": [
      "list index out of range\n",
      "invalid literal for int() with base 10: '20%'\n",
      "unsupported operand type(s) for +: 'int' and 'str'\n"
     ]
    }
   ],
   "source": [
    "try:\n",
    "    a = [10, 20, 30]\n",
    "    a[3]\n",
    "except Exception as e:\n",
    "    print(e)\n",
    "    \n",
    "try:\n",
    "    n = int('20%')\n",
    "except Exception as e:\n",
    "    print(e)\n",
    "    \n",
    "try:\n",
    "    a = 100 + '200'\n",
    "except Exception as e:\n",
    "    print(e)"
   ]
  },
  {
   "cell_type": "code",
   "execution_count": null,
   "id": "c0ac9a5c",
   "metadata": {},
   "outputs": [],
   "source": [
    "try:\n",
    "    10 * (30 / 0)\n",
    "except ZeroDivisionError:\n",
    "    print('0으로 나눔을 시도 했습니다.')\n",
    "\n",
    "try:\n",
    "    x = int(input('정수x를 입력하세요: '))\n",
    "except ValueError:\n",
    "    print('입력값이 정수가 아닙니다.')\n",
    "    \n",
    "try:\n",
    "    "
   ]
  },
  {
   "cell_type": "code",
   "execution_count": 11,
   "id": "9c552049",
   "metadata": {},
   "outputs": [
    {
     "name": "stdout",
     "output_type": "stream",
     "text": [
      "a = [1, 2, 3, 4, 5]\n",
      "x의 요소를 하나 선택하시오 :3\n",
      "3은(는) 세 번째 요소입니다.\n"
     ]
    }
   ],
   "source": [
    "a = [1, 2, 3, 4, 5]\n",
    "print('a =', a)\n",
    "\n",
    "try:\n",
    "    x = int(input('x의 요소를 하나 선택하시오 :'))\n",
    "except ValueError:\n",
    "    print('오류 : 입력값이 정수나 실수가 아님')\n",
    "else:\n",
    "    if x == 1:\n",
    "        print('{}은(는) 첫 번째 요소입니다.'.format(x))\n",
    "    elif x == 2:\n",
    "        print('{}은(는) 두 번째 요소입니다.'.format(x))\n",
    "    elif x == 3:\n",
    "        print('{}은(는) 세 번째 요소입니다.'.format(x))\n",
    "    elif x == 4:\n",
    "        print('{}은(는) 네 번째 요소입니다.'.format(x))\n",
    "    else:\n",
    "        print('{}은(는) 다섯 번째 요소입니다.'.format(x))\n",
    "        \n",
    "    \n"
   ]
  },
  {
   "cell_type": "code",
   "execution_count": 36,
   "id": "5c55d76a",
   "metadata": {
    "scrolled": true
   },
   "outputs": [],
   "source": [
    "f = open('C:\\\\Users\\\\jw4ee\\\\Desktop.numbers.txt', 'w')\n",
    "\n",
    "for i in range(1, 5):\n",
    "    f.write('{}\\n'.format(i * 100))\n",
    "    \n",
    "f.close()\n"
   ]
  },
  {
   "cell_type": "code",
   "execution_count": 39,
   "id": "a3917f40",
   "metadata": {},
   "outputs": [],
   "source": [
    "f = open('C:\\\\Users\\\\jw4ee\\\\Desktop.we_will_we_will_rock.txt', 'w')\n",
    "f.write('Buddy, youre a boy, make a big noise\\n')\n",
    "f.write('Playing in the street, gonna be a big man someday\\n')\n",
    "f.write('You got mud on your face, you big disgrace\\n')\n",
    "f.write('Kicking your can all over the place, sigin\\n')\n",
    "f.write('We will, We will rock you\\n')\n",
    "f.write('We will, We will rock you\\n')\n",
    "\n",
    "f.close()"
   ]
  },
  {
   "cell_type": "code",
   "execution_count": 40,
   "id": "756db5b3",
   "metadata": {},
   "outputs": [
    {
     "name": "stdout",
     "output_type": "stream",
     "text": [
      "100\n",
      "200\n",
      "300\n",
      "400\n"
     ]
    }
   ],
   "source": [
    "f = open('C:\\\\Users\\\\jw4ee\\\\Desktop.numbers.txt', 'r')\n",
    "\n",
    "for i in range(1, 5):\n",
    "    s = f.readline().rstrip()\n",
    "    print(s)\n",
    "    \n",
    "f.close()"
   ]
  },
  {
   "cell_type": "code",
   "execution_count": 42,
   "id": "097ecfd2",
   "metadata": {},
   "outputs": [
    {
     "name": "stdout",
     "output_type": "stream",
     "text": [
      "Buddy, youre a boy, make a big noise\n",
      "Playing in the street, gonna be a big man someday\n",
      "You got mud on your face, you big disgrace\n",
      "Kicking your can all over the place, sigin\n",
      "We will, We will rock you\n",
      "We will, We will rock you\n"
     ]
    }
   ],
   "source": [
    "f = open('C:\\\\Users\\\\jw4ee\\\\Desktop.we_will_we_will_rock.txt', 'r')\n",
    "\n",
    "for i in range(1, 7):\n",
    "    s = f.readline().rstrip()\n",
    "    print(s)\n",
    "\n",
    "f.close()"
   ]
  },
  {
   "cell_type": "code",
   "execution_count": 44,
   "id": "795e0ac5",
   "metadata": {},
   "outputs": [
    {
     "name": "stdout",
     "output_type": "stream",
     "text": [
      "입력할 파일의 이름:we_will_rock.txt\n",
      "BUDDY, YOURE A BOY, MAKE A BIG NOISE\n",
      "PLAYING IN THE STREET, GONNA BE A BIG MAN SOMEDAY\n",
      "YOU GOT MUD ON YOUR FACE, YOU BIG DISGRACE\n",
      "KICKING YOUR CAN ALL OVER THE PLACE, SIGIN\n",
      "WE WILL, WE WILL ROCK YOU\n",
      "WE WILL, WE WILL ROCK YOU\n"
     ]
    }
   ],
   "source": [
    "import sys\n",
    "fname = input('입력할 파일의 이름:')\n",
    "try:\n",
    "    f = open(fname, 'r', encoding = 'UTF8')\n",
    "except IOERROR:\n",
    "    print('Could not read file:', fname)\n",
    "    sys.exit()\n",
    "n = 1\n",
    "I = f.readline().rstrip().upper()\n",
    "\n",
    "while I:\n",
    "    print(I)\n",
    "    I = f.readline().rstrip().upper()\n",
    "    \n",
    "f.close()"
   ]
  },
  {
   "cell_type": "code",
   "execution_count": 48,
   "id": "fdbb9f54",
   "metadata": {},
   "outputs": [],
   "source": [
    "f = open('C:\\\\Users\\\\jw4ee\\\\Desktop.we_will_rock.txt', 'w')\n",
    "f.write('Buddy, youre a boy, make a big noise\\n Playing in the street, gonna be a big man someday\\n You got mud on your face, you big disgrace\\n Kicking your can all over the place, sigin\\n We will, We will rock you\\n We will, We will rock you')\n",
    "f.close()"
   ]
  },
  {
   "cell_type": "code",
   "execution_count": 49,
   "id": "cc690898",
   "metadata": {},
   "outputs": [
    {
     "name": "stdout",
     "output_type": "stream",
     "text": [
      "입력할 파일의 이름:we_will_rock.txt\n",
      " We will, We will rock you\n",
      " We will, We will rock you\n",
      " Kicking your can all over the place, sigin\n",
      " You got mud on your face, you big disgrace\n",
      " Playing in the street, gonna be a big man someday\n",
      "Buddy, youre a boy, make a big noise\n"
     ]
    }
   ],
   "source": [
    "import sys\n",
    "fname = input('입력할 파일의 이름:')\n",
    "try:\n",
    "    f = open(fname, 'r', encoding = 'UTF8')\n",
    "except IOERROR:\n",
    "    print('Could not read file:', fname)\n",
    "    sys.exit()\n",
    "    \n",
    "\n",
    "I = f.readline().rstrip()\n",
    "l1 = []\n",
    "n = 0\n",
    "\n",
    "while I:\n",
    "    l1.append(I)\n",
    "    I = f.readline().rstrip()\n",
    "    n += 1\n",
    "for i in range(n - 1, -1, -1):\n",
    "    print(l1[i])\n",
    "    \n",
    "f.close()"
   ]
  },
  {
   "cell_type": "code",
   "execution_count": null,
   "id": "c1cf6c5e",
   "metadata": {},
   "outputs": [],
   "source": []
  }
 ],
 "metadata": {
  "kernelspec": {
   "display_name": "Python 3 (ipykernel)",
   "language": "python",
   "name": "python3"
  },
  "language_info": {
   "codemirror_mode": {
    "name": "ipython",
    "version": 3
   },
   "file_extension": ".py",
   "mimetype": "text/x-python",
   "name": "python",
   "nbconvert_exporter": "python",
   "pygments_lexer": "ipython3",
   "version": "3.9.12"
  }
 },
 "nbformat": 4,
 "nbformat_minor": 5
}
